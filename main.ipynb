{
 "cells": [
  {
   "cell_type": "code",
   "execution_count": 38,
   "metadata": {},
   "outputs": [],
   "source": [
    "import pandas as pd\n",
    "import numpy as np\n",
    "import matplotlib\n",
    "import matplotlib.pyplot as plt\n",
    "from sklearn.feature_extraction.text import TfidfVectorizer\n",
    "import spacy\n",
    "import sys"
   ]
  },
  {
   "cell_type": "code",
   "execution_count": 16,
   "metadata": {},
   "outputs": [],
   "source": [
    "df = pd.read_csv('Data/winemag-data-130k-v2.csv')"
   ]
  },
  {
   "cell_type": "code",
   "execution_count": 6,
   "metadata": {},
   "outputs": [
    {
     "data": {
      "text/html": [
       "<div>\n",
       "<style scoped>\n",
       "    .dataframe tbody tr th:only-of-type {\n",
       "        vertical-align: middle;\n",
       "    }\n",
       "\n",
       "    .dataframe tbody tr th {\n",
       "        vertical-align: top;\n",
       "    }\n",
       "\n",
       "    .dataframe thead th {\n",
       "        text-align: right;\n",
       "    }\n",
       "</style>\n",
       "<table border=\"1\" class=\"dataframe\">\n",
       "  <thead>\n",
       "    <tr style=\"text-align: right;\">\n",
       "      <th></th>\n",
       "      <th>Unnamed: 0</th>\n",
       "      <th>country</th>\n",
       "      <th>description</th>\n",
       "      <th>designation</th>\n",
       "      <th>points</th>\n",
       "      <th>price</th>\n",
       "      <th>province</th>\n",
       "      <th>region_1</th>\n",
       "      <th>region_2</th>\n",
       "      <th>taster_name</th>\n",
       "      <th>taster_twitter_handle</th>\n",
       "      <th>title</th>\n",
       "      <th>variety</th>\n",
       "      <th>winery</th>\n",
       "    </tr>\n",
       "  </thead>\n",
       "  <tbody>\n",
       "    <tr>\n",
       "      <th>0</th>\n",
       "      <td>0</td>\n",
       "      <td>Italy</td>\n",
       "      <td>Aromas include tropical fruit, broom, brimston...</td>\n",
       "      <td>Vulkà Bianco</td>\n",
       "      <td>87</td>\n",
       "      <td>NaN</td>\n",
       "      <td>Sicily &amp; Sardinia</td>\n",
       "      <td>Etna</td>\n",
       "      <td>NaN</td>\n",
       "      <td>Kerin O’Keefe</td>\n",
       "      <td>@kerinokeefe</td>\n",
       "      <td>Nicosia 2013 Vulkà Bianco  (Etna)</td>\n",
       "      <td>White Blend</td>\n",
       "      <td>Nicosia</td>\n",
       "    </tr>\n",
       "    <tr>\n",
       "      <th>1</th>\n",
       "      <td>1</td>\n",
       "      <td>Portugal</td>\n",
       "      <td>This is ripe and fruity, a wine that is smooth...</td>\n",
       "      <td>Avidagos</td>\n",
       "      <td>87</td>\n",
       "      <td>15.0</td>\n",
       "      <td>Douro</td>\n",
       "      <td>NaN</td>\n",
       "      <td>NaN</td>\n",
       "      <td>Roger Voss</td>\n",
       "      <td>@vossroger</td>\n",
       "      <td>Quinta dos Avidagos 2011 Avidagos Red (Douro)</td>\n",
       "      <td>Portuguese Red</td>\n",
       "      <td>Quinta dos Avidagos</td>\n",
       "    </tr>\n",
       "    <tr>\n",
       "      <th>2</th>\n",
       "      <td>2</td>\n",
       "      <td>US</td>\n",
       "      <td>Tart and snappy, the flavors of lime flesh and...</td>\n",
       "      <td>NaN</td>\n",
       "      <td>87</td>\n",
       "      <td>14.0</td>\n",
       "      <td>Oregon</td>\n",
       "      <td>Willamette Valley</td>\n",
       "      <td>Willamette Valley</td>\n",
       "      <td>Paul Gregutt</td>\n",
       "      <td>@paulgwine</td>\n",
       "      <td>Rainstorm 2013 Pinot Gris (Willamette Valley)</td>\n",
       "      <td>Pinot Gris</td>\n",
       "      <td>Rainstorm</td>\n",
       "    </tr>\n",
       "    <tr>\n",
       "      <th>3</th>\n",
       "      <td>3</td>\n",
       "      <td>US</td>\n",
       "      <td>Pineapple rind, lemon pith and orange blossom ...</td>\n",
       "      <td>Reserve Late Harvest</td>\n",
       "      <td>87</td>\n",
       "      <td>13.0</td>\n",
       "      <td>Michigan</td>\n",
       "      <td>Lake Michigan Shore</td>\n",
       "      <td>NaN</td>\n",
       "      <td>Alexander Peartree</td>\n",
       "      <td>NaN</td>\n",
       "      <td>St. Julian 2013 Reserve Late Harvest Riesling ...</td>\n",
       "      <td>Riesling</td>\n",
       "      <td>St. Julian</td>\n",
       "    </tr>\n",
       "    <tr>\n",
       "      <th>4</th>\n",
       "      <td>4</td>\n",
       "      <td>US</td>\n",
       "      <td>Much like the regular bottling from 2012, this...</td>\n",
       "      <td>Vintner's Reserve Wild Child Block</td>\n",
       "      <td>87</td>\n",
       "      <td>65.0</td>\n",
       "      <td>Oregon</td>\n",
       "      <td>Willamette Valley</td>\n",
       "      <td>Willamette Valley</td>\n",
       "      <td>Paul Gregutt</td>\n",
       "      <td>@paulgwine</td>\n",
       "      <td>Sweet Cheeks 2012 Vintner's Reserve Wild Child...</td>\n",
       "      <td>Pinot Noir</td>\n",
       "      <td>Sweet Cheeks</td>\n",
       "    </tr>\n",
       "  </tbody>\n",
       "</table>\n",
       "</div>"
      ],
      "text/plain": [
       "   Unnamed: 0   country                                        description  \\\n",
       "0           0     Italy  Aromas include tropical fruit, broom, brimston...   \n",
       "1           1  Portugal  This is ripe and fruity, a wine that is smooth...   \n",
       "2           2        US  Tart and snappy, the flavors of lime flesh and...   \n",
       "3           3        US  Pineapple rind, lemon pith and orange blossom ...   \n",
       "4           4        US  Much like the regular bottling from 2012, this...   \n",
       "\n",
       "                          designation  points  price           province  \\\n",
       "0                        Vulkà Bianco      87    NaN  Sicily & Sardinia   \n",
       "1                            Avidagos      87   15.0              Douro   \n",
       "2                                 NaN      87   14.0             Oregon   \n",
       "3                Reserve Late Harvest      87   13.0           Michigan   \n",
       "4  Vintner's Reserve Wild Child Block      87   65.0             Oregon   \n",
       "\n",
       "              region_1           region_2         taster_name  \\\n",
       "0                 Etna                NaN       Kerin O’Keefe   \n",
       "1                  NaN                NaN          Roger Voss   \n",
       "2    Willamette Valley  Willamette Valley        Paul Gregutt   \n",
       "3  Lake Michigan Shore                NaN  Alexander Peartree   \n",
       "4    Willamette Valley  Willamette Valley        Paul Gregutt   \n",
       "\n",
       "  taster_twitter_handle                                              title  \\\n",
       "0          @kerinokeefe                  Nicosia 2013 Vulkà Bianco  (Etna)   \n",
       "1            @vossroger      Quinta dos Avidagos 2011 Avidagos Red (Douro)   \n",
       "2           @paulgwine       Rainstorm 2013 Pinot Gris (Willamette Valley)   \n",
       "3                   NaN  St. Julian 2013 Reserve Late Harvest Riesling ...   \n",
       "4           @paulgwine   Sweet Cheeks 2012 Vintner's Reserve Wild Child...   \n",
       "\n",
       "          variety               winery  \n",
       "0     White Blend              Nicosia  \n",
       "1  Portuguese Red  Quinta dos Avidagos  \n",
       "2      Pinot Gris            Rainstorm  \n",
       "3        Riesling           St. Julian  \n",
       "4      Pinot Noir         Sweet Cheeks  "
      ]
     },
     "execution_count": 6,
     "metadata": {},
     "output_type": "execute_result"
    }
   ],
   "source": [
    "df.head()"
   ]
  },
  {
   "cell_type": "code",
   "execution_count": 7,
   "metadata": {},
   "outputs": [
    {
     "data": {
      "text/plain": [
       "\"\\nColumns definitions:\\n* Country: This column describes the country in which the wine was made, Initially this column isn't needed\\n* Description: This column describes the tastes given by the taster, this column is essential for the project because from this is where we are going to get the data for the sentiment analysis\\n* Designation: This column describes the vineyard within the winery where the grapes that made the wine are from, Initially this column isn't needed\\n* Points: This column describes the cata points given by the taster, this column is essential for the project\\n* Price: This column describes the price in euros for the wine bottle, this column isn't needed\\n* Province: This column describes the province or state that the wine is from, This column isn't needed\\n* Region 1: This column describes the wine growing area in a province or state (ie Napa), This column isn't needed\\n* Region 2: This column describes sometimes a second area, because sometimes there are more specific regions specified within a wine growing area, this column isn't needed\\n* taster_name: THis column describes the tester name, This column isn't needed\\n\""
      ]
     },
     "execution_count": 7,
     "metadata": {},
     "output_type": "execute_result"
    }
   ],
   "source": [
    "'''\n",
    "Columns definitions:\n",
    "* Country: This column describes the country in which the wine was made, Initially this column isn't needed\n",
    "* Description: This column describes the tastes given by the taster, this column is essential for the project because from this is where we are going to get the data for the sentiment analysis\n",
    "* Designation: This column describes the vineyard within the winery where the grapes that made the wine are from, Initially this column isn't needed\n",
    "* Points: This column describes the cata points given by the taster, this column is essential for the project\n",
    "* Price: This column describes the price in euros for the wine bottle, this column isn't needed\n",
    "* Province: This column describes the province or state that the wine is from, This column isn't needed\n",
    "* Region 1: This column describes the wine growing area in a province or state (ie Napa), This column isn't needed\n",
    "* Region 2: This column describes sometimes a second area, because sometimes there are more specific regions specified within a wine growing area, this column isn't needed\n",
    "* taster_name: This column describes the tester name, This column isn't needed\n",
    "'''"
   ]
  },
  {
   "cell_type": "code",
   "execution_count": 7,
   "metadata": {},
   "outputs": [
    {
     "data": {
      "image/png": "[encoded data removed]",
      "text/plain": [
       "<Figure size 640x480 with 1 Axes>"
      ]
     },
     "metadata": {},
     "output_type": "display_data"
    }
   ],
   "source": [
    "plt.hist(df['points'], color='blue', edgecolor='black')\n",
    "\n",
    "plt.title('Cata points histogram')\n",
    "plt.xlabel('Cata points')\n",
    "plt.ylabel('Wine (Units)')\n",
    "plt.show()"
   ]
  },
  {
   "cell_type": "code",
   "execution_count": 17,
   "metadata": {},
   "outputs": [
    {
     "data": {
      "text/plain": [
       "0         87\n",
       "1         87\n",
       "2         87\n",
       "3         87\n",
       "4         87\n",
       "          ..\n",
       "129966    90\n",
       "129967    90\n",
       "129968    90\n",
       "129969    90\n",
       "129970    90\n",
       "Name: points, Length: 129971, dtype: int64"
      ]
     },
     "execution_count": 17,
     "metadata": {},
     "output_type": "execute_result"
    }
   ],
   "source": [
    "# This is a function that depending on its cuartile, it will categorize the points\n",
    "def categorize_points(df):\n",
    "    q1 = df['points'].quantile(0.25)\n",
    "    q2 = df['points'].quantile(0.5)\n",
    "    q3 = df['points'].quantile(0.75)\n",
    "    bins = [0, q1, q2, q3, 101]\n",
    "    labels = ['Mediocre', 'Promedio', 'Bueno', 'Excelente']\n",
    "    df['points_category'] = pd.cut(df['points'], bins=bins, labels=labels)\n",
    "    return df\n",
    "\n",
    "df = categorize_points(df)\n",
    "points = df.pop('points_category')\n",
    "df.insert(4, 'points_category', points)\n",
    "df.pop('points')"
   ]
  },
  {
   "cell_type": "code",
   "execution_count": 18,
   "metadata": {},
   "outputs": [
    {
     "data": {
      "image/png": "[encoded data removed]",
      "text/plain": [
       "<Figure size 640x480 with 1 Axes>"
      ]
     },
     "metadata": {},
     "output_type": "display_data"
    }
   ],
   "source": [
    "plt.hist(df['points_category'], color='blue', edgecolor='black')\n",
    "\n",
    "plt.title('Cata points histogram')\n",
    "plt.xlabel('Category')\n",
    "plt.ylabel('Wine (Units)')\n",
    "plt.show()"
   ]
  },
  {
   "cell_type": "code",
   "execution_count": 22,
   "metadata": {},
   "outputs": [
    {
     "name": "stdout",
     "output_type": "stream",
     "text": [
      "Unnamed: 0                0.000000\n",
      "country                   0.000000\n",
      "description               0.000000\n",
      "designation               0.000000\n",
      "points_category           0.000000\n",
      "price                     6.921544\n",
      "province                  0.048472\n",
      "region_1                 16.347493\n",
      "region_2                 61.136715\n",
      "taster_name              20.192197\n",
      "taster_twitter_handle    24.015357\n",
      "title                     0.000000\n",
      "variety                   0.000769\n",
      "winery                    0.000000\n",
      "dtype: float64\n"
     ]
    }
   ],
   "source": [
    "# This function counts the nulls in the dataframe\n",
    "\n",
    "def count_nulls(df):\n",
    "    nulls = df.isnull().sum()\n",
    "    total = df.isnull().count()\n",
    "    percentage = (nulls/total)*100\n",
    "    print(percentage)\n",
    "    \n",
    "count_nulls(df)"
   ]
  },
  {
   "cell_type": "code",
   "execution_count": 20,
   "metadata": {},
   "outputs": [],
   "source": [
    "# THis function inputs the country with the mode of the column\n",
    "\n",
    "def input_country(df):\n",
    "    df['country'] = df['country'].fillna(df['country'].mode()[0])\n",
    "    return df\n",
    "\n",
    "df = input_country(df)\n",
    "\n",
    "# inputter"
   ]
  },
  {
   "cell_type": "code",
   "execution_count": 21,
   "metadata": {},
   "outputs": [],
   "source": [
    "# This function inputs the designation with the mode of the column\n",
    "\n",
    "def input_designation(df):\n",
    "    df['designation'] = df['designation'].fillna(df['designation'].mode()[0])\n",
    "    return df\n",
    "\n",
    "df = input_designation(df)"
   ]
  },
  {
   "cell_type": "code",
   "execution_count": 36,
   "metadata": {},
   "outputs": [
    {
     "name": "stdout",
     "output_type": "stream",
     "text": [
      "  (0, 805)\t0.09121722832515945\n",
      "  (0, 4028)\t0.19992763076668185\n",
      "  (0, 1321)\t0.16327093330928438\n",
      "  (0, 23597)\t0.20715792950330983\n",
      "  (0, 5802)\t0.13450847974617636\n",
      "  (0, 1757)\t0.13095419227027355\n",
      "  (0, 29117)\t0.44445250940531456\n",
      "  (0, 18923)\t0.19302934082522327\n",
      "  (0, 10107)\t0.24737949698948203\n",
      "  (0, 19396)\t0.25367775335393417\n",
      "  (0, 14353)\t0.2470680390582283\n",
      "  (0, 19599)\t0.08732259047918987\n",
      "  (0, 13191)\t0.15611349687048337\n",
      "  (0, 8827)\t0.3008201101477964\n",
      "  (0, 4008)\t0.3344631880964209\n",
      "  (0, 4090)\t0.292972651475347\n",
      "  (0, 11482)\t0.08079629960261066\n",
      "  (0, 28415)\t0.17772719423752897\n",
      "  (0, 13854)\t0.2446037188425081\n",
      "  (0, 1953)\t0.08585485542063685\n",
      "  (1, 331)\t0.2642196222565591\n",
      "  (1, 3090)\t0.28197590403000633\n",
      "  (1, 5215)\t0.31207897937615664\n",
      "  (1, 8844)\t0.3126638861437477\n",
      "  (1, 11385)\t0.45169598619315837\n",
      "  :\t:\n",
      "  (129969, 8841)\t0.1293555892291849\n",
      "  (129969, 25656)\t0.1548767354327899\n",
      "  (129969, 8893)\t0.16029058299877766\n",
      "  (129969, 7294)\t0.17471907674176182\n",
      "  (129969, 10853)\t0.0932400692938395\n",
      "  (129969, 30472)\t0.08899244665065831\n",
      "  (129969, 805)\t0.12251633802407434\n",
      "  (129969, 1757)\t0.17588813407772894\n",
      "  (129970, 16237)\t0.41838098003793983\n",
      "  (129970, 21087)\t0.3426819850774696\n",
      "  (129970, 25664)\t0.3321088252506743\n",
      "  (129970, 3142)\t0.20898380709228434\n",
      "  (129970, 23369)\t0.2252499671643701\n",
      "  (129970, 14128)\t0.21182945195294414\n",
      "  (129970, 21422)\t0.27847330049041946\n",
      "  (129970, 10446)\t0.20833603359881\n",
      "  (129970, 22928)\t0.14208077773064048\n",
      "  (129970, 1045)\t0.225316044384132\n",
      "  (129970, 8841)\t0.11512676265304218\n",
      "  (129970, 27614)\t0.15689414516120037\n",
      "  (129970, 8893)\t0.14265897603947175\n",
      "  (129970, 12069)\t0.24165849898220707\n",
      "  (129970, 19106)\t0.2625999088752273\n",
      "  (129970, 8636)\t0.26670919038092483\n",
      "  (129970, 11482)\t0.0965827796947467\n"
     ]
    }
   ],
   "source": [
    "# This function makes TF-IDF over the description column\n",
    "\n",
    "def tf_idf(df):\n",
    "    tfidf = TfidfVectorizer(stop_words='english')\n",
    "    tfidf_matrix = tfidf.fit_transform(df['description'])\n",
    "    return tfidf_matrix\n",
    "\n",
    "tfidf_matrix = tf_idf(df)\n",
    "print(tfidf_matrix)\n",
    "\n"
   ]
  },
  {
   "cell_type": "code",
   "execution_count": 41,
   "metadata": {},
   "outputs": [],
   "source": [
    "# This function calculates the embedding of the description column and stores it in a csv file\n",
    "\n",
    "def calculate_embedding(df):\n",
    "    nlp = spacy.load('en_core_web_md')\n",
    "    embeddings = []\n",
    "    for doc in nlp.pipe(df['description'].astype('unicode').values):\n",
    "        embeddings.append(doc.vector)\n",
    "    df['description_embedding'] = embeddings\n",
    "    return df\n",
    "\n",
    "embedding = calculate_embedding(df)\n",
    "\n",
    "# guardar el embedding en un csv\n",
    "embedding.to_csv('Data/embedding.csv', index=False)\n"
   ]
  }
 ],
 "metadata": {
  "kernelspec": {
   "display_name": "MyEnvironment",
   "language": "python",
   "name": "python3"
  },
  "language_info": {
   "codemirror_mode": {
    "name": "ipython",
    "version": 3
   },
   "file_extension": ".py",
   "mimetype": "text/x-python",
   "name": "python",
   "nbconvert_exporter": "python",
   "pygments_lexer": "ipython3",
   "version": "3.8.10"
  }
 },
 "nbformat": 4,
 "nbformat_minor": 2
}
